{
 "cells": [
  {
   "cell_type": "markdown",
   "id": "880b86be",
   "metadata": {},
   "source": [
    "# Indexing the PM2.5 Data Set\n",
    "\n",
    "## Table of Contents:\n",
    "\n",
    "1. [Extract station data](#extract_stations)\n",
    "2. [Index measuring data](#index_measureing_data)\n",
    "3. [Correct frequency](#correct_frequency)\n",
    "4. [How to use index](#how_to_use_index)\n",
    "    1. [Query to index](#query_to_index) \n",
    "    2. [Coverage of data](#coverage_of_data)"
   ]
  },
  {
   "cell_type": "code",
   "execution_count": null,
   "id": "0b270f58-bbc2-45f7-bd95-420d5ebc28bf",
   "metadata": {},
   "outputs": [],
   "source": [
    "import sys\n",
    "from pathlib import Path\n",
    "\n",
    "project_root = Path.cwd().parents[0]\n",
    "if str(project_root) not in sys.path:\n",
    "    sys.path.append(str(project_root))\n",
    "\n",
    "import numpy as np\n",
    "import pandas as pd\n",
    "from src.config import DATA_URLS_FILE, INFO_URLS_FILE, RAW_DIR, METADATA_DIR, PROCESSED_DIR, \\\n",
    "STATIONS_RAW_CSV, STATIONS_CSV, INDEX_CSV, CHECKED_FREQUENCY\n",
    "\n",
    "from src.data.index_data import *\n",
    "from src.data.index_query import get_years_for_site\n",
    "from src.visualization.coverage_maps import visualize_coverage_by_site_and_year\n"
   ]
  },
  {
   "cell_type": "markdown",
   "id": "70f01725",
   "metadata": {},
   "source": [
    "## 1. Extract station data <a name=\"extract_stations\"></a>\n",
    "\n",
    "We will extract all NAPS site ID and some information, like land use and scale, for later use. These information will be saved in a CSV file, `/data/metadata/stations.csv`.\n",
    "\n",
    "<div class=\"alert alert-block alert-info\">\n",
    "<b>For verification:</b> Check the first and last NAPS stations listed in the original CSV. The following code will print out the first and last three stations. If the extracted first and last stations do not agree with those on the origianl CSV, you may need to update the code.\n",
    "</div>"
   ]
  },
  {
   "cell_type": "code",
   "execution_count": null,
   "id": "d1e67138",
   "metadata": {
    "scrolled": true
   },
   "outputs": [],
   "source": [
    "extract_stations(STATIONS_RAW_CSV, STATIONS_CSV, METADATA_DIR)\n"
   ]
  },
  {
   "cell_type": "markdown",
   "id": "d6fcfb40",
   "metadata": {},
   "source": [
    "## 2. Index measuring data<a name=\"index_measureing_data\"></a>\n",
    "\n",
    "Next, we will create a CSV file that contains a list of the attributes of the data files. This project will particularly be interested in PM2.5 speciation data. The presence and absence of a particular data will be determined by checking the data set with with the following rules depending on a year.\n",
    "\n",
    "| analyte type | 2003 - 2009 | 2010 - 2019 |\n",
    "| ---- | ------- | ------- |\n",
    "| Near Total metal | file named `*_ICPMS.XLS` | worksheet named `Metals_ICPMS (Near-Total)` |\n",
    "| Water-soluble metal | file named `*_WICPMS.XLS` | worksheet named `Metals_ICPMS (Water-Soluble)` |\n",
    "| ions | file named `*_IC.XLS` | worksheet named `Ions-Spec_IC` |\n",
    "\n",
    "The result will be stored in an index CSV file, which structure is the following.\n",
    "\n",
    "| year | site_id | analyte | analyte_type | instrument | frequency |\n",
    "| ---- | ------- | ------- | ---------- | ---------- | --------- |\n",
    "| measurement year | NAPS site ID | full name of the analyte | 'NT' (near total) or 'WS' (water-soluble) for ICPMS; 'total' for IC | ICPMS or IC | measurement frequency (day) |\n",
    "\n",
    "If the data set contains at least one entry for an analyte, a row will be created in this index file, even if the reported value was error measurement. The actual number of non-error measurement and ther percentage of that will be checked later.\n",
    "\n",
    "The differentiation of NT and WS will be later used to extract PM2.5 data. Because Near Total data is from Sampler #1 and Water-soluble data is from Sampler #2, we have to match a correct PM2.5 dataset with a correponding metal dataset.\n",
    "\n",
    "<div class=\"alert alert-block alert-info\">\n",
    "<b>For maintenance:</b> Modify unzipped_dir_for function in napsanalyzer.py appropriately so that it will return a suitable directory path when you add the data set of newer year(s) and/or when a provided zip file changes its directory strcuture.\n",
    "\n",
    "Also, if the use of Samplers is changed in the future, we will have to change the code for extraction.\n",
    "</div>"
   ]
  },
  {
   "cell_type": "code",
   "execution_count": null,
   "id": "80a86609",
   "metadata": {},
   "outputs": [],
   "source": [
    "index_dataset_attributes(DATA_URLS_FILE, INDEX_CSV, RAW_DIR)\n"
   ]
  },
  {
   "cell_type": "markdown",
   "id": "c4e3dac2-80f2-4a3b-b922-af8ea9d7f04c",
   "metadata": {},
   "source": [
    "**Example of the use of index CSV**\n",
    "\n",
    "The following code will show the sites with IC-measured data but no ICPMS-measured data and the number of such sites.\n"
   ]
  },
  {
   "cell_type": "code",
   "execution_count": null,
   "id": "a16ec25a-426a-474d-bded-fb4e7e2c6a04",
   "metadata": {},
   "outputs": [],
   "source": [
    "index_df = pd.read_csv(INDEX_CSV)\n",
    "\n",
    "# filter for 'IC' and 'ICPMS'\n",
    "ic_sites = index_df[index_df['instrument'] == 'IC']['site_id'].unique()\n",
    "icpms_sites = index_df[index_df['instrument'] == 'ICPMS']['site_id'].unique()\n",
    "\n",
    "# find site_ids with 'IC' but not with 'ICPMS'\n",
    "sites_with_ic_not_icpms = set(ic_sites) - set(icpms_sites)\n",
    "\n",
    "# convert to list and count\n",
    "sites_with_ic_not_icpms_list = list(sites_with_ic_not_icpms)\n",
    "count_sites_with_ic_not_icpms = len(sites_with_ic_not_icpms_list)\n",
    "\n",
    "# display the site_ids and count\n",
    "print(\"Site IDs with data measured by IC but not ICPMS:\", sites_with_ic_not_icpms_list)\n",
    "print(\"Number of such Site IDs (without ICPMS-measured data):\", count_sites_with_ic_not_icpms)"
   ]
  },
  {
   "cell_type": "markdown",
   "id": "3deef0ab",
   "metadata": {},
   "source": [
    "## 3. Correct frequency<a name=\"correct_frequency\"></a>\n",
    "\n",
    "Some of the calculated frequency were not accurate because sampling dates are sometimes very spaced and the current code does not follow it. To deal with such a case, the frequency was intentionally assigned as 100 for an alert to be manually corrected. Also, some files contain consequent sampling date, which is not correct; the frequency should be **one for three day** or **six day**. So, the following function will manually correct the wrongly detected frequency in the index CSV.\n",
    "\n",
    "First, this code will show you how many entries may have a wrong frequency."
   ]
  },
  {
   "cell_type": "code",
   "execution_count": null,
   "id": "3aa4d91e",
   "metadata": {},
   "outputs": [],
   "source": [
    "print(f'Total {len(index_df)} entries in the index CSV')\n",
    "\n",
    "filtered_df = index_df[(index_df['frequency'] != 3) & (index_df['frequency'] != 6)]\n",
    "\n",
    "grouped_df = filtered_df.groupby(['year', 'site_id', 'analyte_type', 'instrument', 'frequency']).size().reset_index(name='count')\n",
    "print('The frequency for ' + str(len(grouped_df)) + ' data sets (' + str(len(filtered_df)) + ' rows in the index CSV) may be wrong:')\n",
    "display(grouped_df.head(3))\n",
    "display(grouped_df.tail(3))"
   ]
  },
  {
   "cell_type": "markdown",
   "id": "d2c42a35",
   "metadata": {},
   "source": [
    "The following function will apply the manually-checked data (in CSV) and will save it.\n"
   ]
  },
  {
   "cell_type": "code",
   "execution_count": null,
   "id": "e685df7c-f06d-4e2d-a147-47fdd9ba1648",
   "metadata": {},
   "outputs": [],
   "source": [
    "index_df = apply_manually_checked_frequency(index_df, CHECKED_FREQUENCY, INDEX_CSV)\n",
    "\n",
    "# show the result\n",
    "print(f'Total {len(index_df)} entries in the index CSV')\n",
    "\n",
    "filtered_df = index_df[(index_df['frequency'] != 3) & (index_df['frequency'] != 6)]\n",
    "display_columns = ['year', 'site_id', 'analyte_type', 'instrument', 'frequency']\n",
    "\n",
    "grouped_df = filtered_df.groupby([\n",
    "    'year', 'site_id', 'analyte_type', 'instrument', 'frequency']).size().reset_index(name='count')\n",
    "\n",
    "print('The frequency for ' + str(len(grouped_df)) + \n",
    "      ' data sets (' + str(len(filtered_df)) + ' rows in the index CSV) may be wrong:')\n",
    "\n",
    "display(grouped_df)\n"
   ]
  },
  {
   "cell_type": "markdown",
   "id": "a7a74f7a",
   "metadata": {},
   "source": [
    "The NAPS program reported only one or two measurement for the following data files. \n",
    "\n",
    "| year | site_id | analyte_type | instrument |\n",
    "| ---- | ------- | ------- | ---------- |\n",
    "| 2007 | 70301 | WS | ICPMS |\n",
    "| 2016 | 129302 | total | IC |\n",
    "| 2017 | 60610 | total | IC |\n",
    "\n",
    "So, the following function will drop these data from the index CSV."
   ]
  },
  {
   "cell_type": "code",
   "execution_count": null,
   "id": "e5ed8350",
   "metadata": {},
   "outputs": [],
   "source": [
    "# drop some entries\n",
    "index_df = drop_entries_with_too_few_measurements(index_df, INDEX_CSV)\n",
    "\n",
    "# show the result \n",
    "filtered_df = index_df[(index_df['frequency'] != 3) & (index_df['frequency'] != 6)]\n",
    "grouped_df = filtered_df.groupby([\n",
    "    'year', 'site_id', 'analyte_type', 'instrument', 'frequency']).size().reset_index(name='count')\n",
    "print('The frequency for ' + str(len(grouped_df)) + \n",
    "      ' data sets (' + str(len(filtered_df)) + ' rows in the index CSV) may be wrong:')\n",
    "display(grouped_df)"
   ]
  },
  {
   "cell_type": "markdown",
   "id": "19eda7ba",
   "metadata": {},
   "source": [
    "Now, no row with the frequency other than three or six remains.\n",
    "\n",
    "Also, we need to correct the frequency for some data files. The frequency changed from 6 to 3 in the early phase of the year for these datafiles. So, the following function will overwrite the information and save it to the CSV file."
   ]
  },
  {
   "cell_type": "code",
   "execution_count": null,
   "id": "3cf3f9fb",
   "metadata": {},
   "outputs": [],
   "source": [
    "# update some entries and save it \n",
    "index_df = update_index_with_major_frequency(index_df, INDEX_CSV)\n",
    "\n",
    "# check the number of entries\n",
    "print(f'Total {len(index_df)} entries in the index CSV')\n"
   ]
  },
  {
   "cell_type": "markdown",
   "id": "7f0cc326-6737-487f-b446-c9b8812e2b66",
   "metadata": {},
   "source": [
    "## 4. How to use index<a name=\"how_to_use_index\"></a>\n",
    "\n",
    "### 4.1. Query to index<a name='query_to_index'></a>\n",
    "\n",
    "To find out which years' data are available for a particular NAPS site, analyte, and analyte type, you can filter the DataFrame by the corresponding `site_id`, `analyte`, and `analyte_type`, and then get the unique list of years for that `site_id`. Here's how you can do it:\n"
   ]
  },
  {
   "cell_type": "code",
   "execution_count": null,
   "id": "bc5821e6-3d66-40d9-b992-c2450cbdd4f3",
   "metadata": {},
   "outputs": [],
   "source": [
    "# Replace with the site_id you want to check\n",
    "specific_site_id = 100119\n",
    "\n",
    "# Replace with the analyte you want to check\n",
    "specific_analyte = 'lead'\n",
    "\n",
    "# Replace with the analyte you want to check ('NT' or 'WS' for ICPMS data, 'IC' for ions)\n",
    "specific_analyte_type = 'NT'  \n",
    "\n",
    "unique_years_list = get_years_for_site(specific_site_id, specific_analyte, specific_analyte_type)\n",
    "\n",
    "print(f\"Unique years available for {specific_analyte_type}-{specific_analyte} \\\n",
    "at site {specific_site_id}:\\n {unique_years_list}\")\n"
   ]
  },
  {
   "cell_type": "markdown",
   "id": "1d73229c-7f56-4100-96c9-6d02dabe2955",
   "metadata": {},
   "source": [
    "### 4.2. Coverage of data<a name=\"coverage_of_data\"></a>\n",
    "\n",
    "You can also take a look at the coverage of the data at each site. This coverage will be created based on the presence of, at least, three measurements, refering to the index CSV. The following code will show a coverage table for ICPMS-measured data without specifying an analyte."
   ]
  },
  {
   "cell_type": "code",
   "execution_count": null,
   "id": "44772c66-f80b-44de-9337-76c974f22bc7",
   "metadata": {
    "scrolled": true
   },
   "outputs": [],
   "source": [
    "visualize_coverage_by_site_and_year()\n"
   ]
  },
  {
   "cell_type": "markdown",
   "id": "aa70f280-331c-4acc-9b9c-53147e50feb2",
   "metadata": {},
   "source": [
    "The above table shows that 28 sites have PM2.5 data measured by ICP-MS. Let's check the difference between this number and the number of the stations that currently provide the ICP-MS measured data."
   ]
  },
  {
   "cell_type": "code",
   "execution_count": null,
   "id": "867ad958-b19e-42ae-a026-f801e6286407",
   "metadata": {},
   "outputs": [],
   "source": [
    "# check the number of stations that currently have ICP-MS measurements\n",
    "stations = pd.read_csv(STATIONS_CSV)\n",
    "icpms_stations = stations[stations[\n",
    "    'PM2.5_Speciation'] == 'X'].loc[:, ['site_id', 'station_name', 'Start_Year', 'End_Year']].reset_index()\n",
    "\n",
    "print(f'PM2.5 Speciation data is currently measured at {len(icpms_stations)} \\\n",
    "sites, according to StationsNAPS-StationsSNPA.csv.')\n",
    "\n",
    "# check the number of stations that have ICP-MS measurements based on parsing by code\n",
    "index_df = pd.read_csv(INDEX_CSV)\n",
    "icpms_df = index_df[index_df['instrument'] == 'ICPMS']\n",
    "sites_with_icpms_data = icpms_df['site_id'].sort_values().unique()\n",
    "\n",
    "print(f'PM2.5 Speciation data has been measured at {len(sites_with_icpms_data)} \\\n",
    "sites, according to our check.')\n",
    "\n",
    "# the difference between the counts\n",
    "merged = icpms_df.merge(icpms_stations, on='site_id', how='left', indicator=True)\n",
    "left_only_list = merged.loc[merged['_merge'] == 'left_only', :]\n",
    "\n",
    "print('\\nThe following sites are not reporting an ICP-MS-measured data anymore:')\n",
    "not_listed = left_only_list['site_id'].sort_values().unique()\n",
    "print(', '.join(map(str, not_listed)))"
   ]
  },
  {
   "cell_type": "markdown",
   "id": "3023c79a-e6d3-4016-828b-0a434f3eccf3",
   "metadata": {},
   "source": [
    "If you call the function `visualize_coverage_by_site_and_year` with the full name of the analyte of your interest, you can obtain a coverage of that analyte."
   ]
  },
  {
   "cell_type": "code",
   "execution_count": null,
   "id": "2e91aa15-3b3d-444a-9644-98c4af0bcea1",
   "metadata": {},
   "outputs": [],
   "source": [
    "visualize_coverage_by_site_and_year('aluminum')"
   ]
  }
 ],
 "metadata": {
  "kernelspec": {
   "display_name": "Python 3 (ipykernel)",
   "language": "python",
   "name": "python3"
  },
  "language_info": {
   "codemirror_mode": {
    "name": "ipython",
    "version": 3
   },
   "file_extension": ".py",
   "mimetype": "text/x-python",
   "name": "python",
   "nbconvert_exporter": "python",
   "pygments_lexer": "ipython3",
   "version": "3.11.8"
  }
 },
 "nbformat": 4,
 "nbformat_minor": 5
}
