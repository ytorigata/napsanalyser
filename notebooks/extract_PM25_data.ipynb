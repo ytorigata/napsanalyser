{
 "cells": [
  {
   "cell_type": "markdown",
   "id": "1a8982e4",
   "metadata": {},
   "source": [
    "# Extracting PM 2.5 data\n",
    "\n",
    "## Table of Contents:\n",
    "\n",
    "1. [Extraction of data (2003-2009)](#extraction_2003_2009)\n",
    "    1. [Correction for the data from site 100702 in 2006 and 2007](#correction_100702_files)\n",
    "    2. [Extraction of metal and ion data (2003-2009)](extraction_metal_ion_2003_2009)\n",
    "2. [Extraction of data (2010-2019)](#extraction_2010_2019)\n",
    "\n",
    "This notebook will call functions to extract the Near Total and Water-soluble concentration of metals from the data set prepared by [index_PM25_data.ipynb](index_PM25_data.ipynb). The code assumes the directory tree is like the following.\n",
    "\n",
    "```\n",
    "├── data/\n",
    "│   ├── config/\n",
    "│   ├── metadata/\n",
    "│   │   │\n",
    "│   │   ├── index.csv\n",
    "│   │   └── stations_metadata.csv\n",
    "│   │\n",
    "│   └── raw/\n",
    "│       ├── 2003/\n",
    "│       │    └─SPECIATION/\n",
    "│       │        ├─S50104_CARB.XLS\n",
    "│       │        ├─S50104_IC.XLS\n",
    "│       │        ├── ...\n",
    "│       │        └─S101004_WICPMS.XLS\n",
    "│       ├── ...\n",
    "│       └─── 2019/\n",
    "│\n",
    "├── notebooks/\n",
    "│   └── extract_PM25_data.ipynb (this notebook)\n",
    "├── ...\n",
    "```\n",
    "\n",
    "The following code will start with importing required libraries and setting the directory paths.\n"
   ]
  },
  {
   "cell_type": "code",
   "execution_count": null,
   "id": "bf9170e7",
   "metadata": {},
   "outputs": [],
   "source": [
    "import sys\n",
    "from pathlib import Path\n",
    "\n",
    "project_root = Path.cwd().parents[0]\n",
    "if str(project_root) not in sys.path:\n",
    "    sys.path.append(str(project_root))\n",
    "\n",
    "import numpy as np\n",
    "import pandas as pd\n",
    "from src.data.extract_pre_2010_data import extract_pre_2010\n",
    "from src.data.extract_post_2010_data import extract_post_2010\n"
   ]
  },
  {
   "cell_type": "markdown",
   "id": "234b6c30",
   "metadata": {},
   "source": [
    "Because the file formats and structures for pre and post 2010 are quite different. For example, the Near Total and Water-soluble data are provided with two different files before 2009; however, these two element forms are in the same file from 2010. Therefore, the extraction will be carried out separately for each data set.\n",
    "\n",
    "## 1. Extraction of data (2003-2009)<a name='extraction_2003_2009'></a>\n",
    "\n",
    "### 1.1. Correction for the data from site 100702 in 2006 and 2007<a name='correction_100702_files'></a>\n",
    "\n",
    "<div class=\"alert alert-block alert-warning\">\n",
    "    <b>S100702_ICPMS.XLS</b> of <b>2006</b> and <b>2007</b> files have a critical format error. They must be <b>manually</b> corrected before running the following code (this operation has not been automated due to a trouble with xlutils.copy); otherwise, you will encounter InvalidIndexError saying 'Reindexing only valid with uniquely valued Index objects.'\n",
    "</div>\n",
    "\n",
    "- Situation\n",
    "    - The values of column AS (START_TIME) are stored in column BG. The values of column AT (END_TIME) are stored in column BH. This error also causes the column for NAPS ID to move to column BI. \n",
    "    - ![problem_S100702_ICPMS.png](images/problem_S100702_ICPMS.png)\n",
    "- Solution\n",
    "    - The last three columns in the files should be shifted to the left.\n",
    "- Tips\n",
    "    - The values between AV and BI in the second row should be elimiated. Even if the cells seem to be empty, invisible value may remain. So, select the range and delete the value by keyboard; otherwise, the following code may rise an error.\n",
    "    - The corrected files should be saved as XLS file format as they are. Note the Excel tries to save the file in xlsx format.\n",
    "\n",
    "### 1.2. Extraction of metal and ion data (2003-2009)<a name='extraction_metal_ion_2003_2009'></a>\n",
    "\n",
    "The following function will extract the pre 2010 data (i.e., 2003 to 2009) and store CSV files under a new directory `PROCESSED_DIR` which default location is `data/processed`. Also, this function will extract ion data if exsited for a year in which ICPMS-measured data exist. Ions data will be stored in a separate file from the ICP-MS-measured data, with a file name suffix `_IC`.\n"
   ]
  },
  {
   "cell_type": "code",
   "execution_count": 4,
   "id": "c53252d7",
   "metadata": {},
   "outputs": [
    {
     "name": "stdout",
     "output_type": "stream",
     "text": [
      "2024-02-24 08:37:04,251 INFO Start extracting PM2.5-Speciation data of 2003\n",
      "2024-02-24 08:37:04,432 INFO Completed extracting data of 2003\n",
      "2024-02-24 08:37:04,432 INFO Start extracting PM2.5-Speciation data of 2004\n",
      "2024-02-24 08:37:04,811 INFO Completed extracting data of 2004\n",
      "2024-02-24 08:37:04,811 INFO Start extracting PM2.5-Speciation data of 2005\n",
      "2024-02-24 08:37:05,223 INFO Completed extracting data of 2005\n",
      "2024-02-24 08:37:05,223 INFO Start extracting PM2.5-Speciation data of 2006\n",
      "2024-02-24 08:37:05,741 INFO Completed extracting data of 2006\n",
      "2024-02-24 08:37:05,741 INFO Start extracting PM2.5-Speciation data of 2007\n",
      "2024-02-24 08:37:06,355 INFO Completed extracting data of 2007\n",
      "2024-02-24 08:37:06,355 INFO Start extracting PM2.5-Speciation data of 2008\n",
      "2024-02-24 08:37:06,847 INFO Completed extracting data of 2008\n",
      "2024-02-24 08:37:06,847 INFO Start extracting PM2.5-Speciation data of 2009\n",
      "2024-02-24 08:37:07,407 INFO Completed extracting data of 2009\n"
     ]
    }
   ],
   "source": [
    "extract_pre_2010()\n"
   ]
  },
  {
   "cell_type": "markdown",
   "id": "aa80f484",
   "metadata": {},
   "source": [
    "## 2. Extraction of data (2010-2019)<a name='extraction_2010_2019'></a>\n",
    "\n",
    "The following function will extract the post 2010 data (i.e., 2010 to 2019) from the Excel files. The mass concentrations of PM2.5 are merged with the metals data during the extraction. The PM2.5 data from Sampler #1 will be combined with the Near Total metals data, whereas the PM2.5 data from Sampler #2 will be combined with the Water-soluble metals data."
   ]
  },
  {
   "cell_type": "code",
   "execution_count": 5,
   "id": "1f9ee892",
   "metadata": {},
   "outputs": [
    {
     "name": "stdout",
     "output_type": "stream",
     "text": [
      "2024-02-24 08:37:42,622 INFO Start extracting PM2.5-Speciation data of 2010\n",
      "2024-02-24 08:37:47,296 INFO Completed extracting data of 2010\n",
      "2024-02-24 08:37:47,296 INFO Start extracting PM2.5-Speciation data of 2011\n",
      "2024-02-24 08:37:51,274 INFO Completed extracting data of 2011\n",
      "2024-02-24 08:37:51,274 INFO Start extracting PM2.5-Speciation data of 2012\n",
      "2024-02-24 08:37:56,097 INFO Completed extracting data of 2012\n",
      "2024-02-24 08:37:56,098 INFO Start extracting PM2.5-Speciation data of 2013\n",
      "2024-02-24 08:38:01,086 INFO Completed extracting data of 2013\n",
      "2024-02-24 08:38:01,087 INFO Start extracting PM2.5-Speciation data of 2014\n",
      "2024-02-24 08:38:05,945 INFO Completed extracting data of 2014\n",
      "2024-02-24 08:38:05,945 INFO Start extracting PM2.5-Speciation data of 2015\n",
      "2024-02-24 08:38:10,137 INFO Completed extracting data of 2015\n",
      "2024-02-24 08:38:10,137 INFO Start extracting PM2.5-Speciation data of 2016\n",
      "2024-02-24 08:38:14,003 INFO Completed extracting data of 2016\n",
      "2024-02-24 08:38:14,004 INFO Start extracting PM2.5-Speciation data of 2017\n",
      "2024-02-24 08:38:18,984 INFO Completed extracting data of 2017\n",
      "2024-02-24 08:38:18,985 INFO Start extracting PM2.5-Speciation data of 2018\n",
      "2024-02-24 08:38:23,527 INFO Completed extracting data of 2018\n",
      "2024-02-24 08:38:23,528 INFO Start extracting PM2.5-Speciation data of 2019\n",
      "2024-02-24 08:38:27,952 INFO Completed extracting data of 2019\n"
     ]
    }
   ],
   "source": [
    "extract_post_2010()\n"
   ]
  },
  {
   "cell_type": "markdown",
   "id": "830adc5e",
   "metadata": {},
   "source": [
    "Now, the Near-Total and Water-Soluble metals and ions data were saved in CSV files in `data/processed`. The data is ready for the QA/QC for analysis. Also, these files can be further extracted for the source apportionment."
   ]
  }
 ],
 "metadata": {
  "kernelspec": {
   "display_name": "Python 3 (ipykernel)",
   "language": "python",
   "name": "python3"
  },
  "language_info": {
   "codemirror_mode": {
    "name": "ipython",
    "version": 3
   },
   "file_extension": ".py",
   "mimetype": "text/x-python",
   "name": "python",
   "nbconvert_exporter": "python",
   "pygments_lexer": "ipython3",
   "version": "3.11.8"
  }
 },
 "nbformat": 4,
 "nbformat_minor": 5
}
