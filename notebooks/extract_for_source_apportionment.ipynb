{
 "cells": [
  {
   "cell_type": "markdown",
   "id": "1a8982e4",
   "metadata": {},
   "source": [
    "# Extracting the Data Files for Source Apportionment\n",
    "\n",
    "This notebook will extract the data for source apportionment. The output is a set of CSV files, which contains the concentrations of metals, ions, and the mass concentration of PM2.5 at a specified site for all available years.\n",
    "\n",
    "The following procedures will use the CSV files prepared with [extract_PM25_data.ipynb](./extract_PM25_data.ipynb). So, run the notebook before using this notebook,\n",
    "\n",
    "The output CSV files will have the following names and will be saved in a directory named `{NAPS site ID}_for_PMF`.\n",
    "\n",
    "| - | Metal data | Ion data | PM2.5 data |\n",
    "| - | ---------- | -------- | ---------- |\n",
    "| File Name | NT_{element full name}.csv | ion_{element full name}.csv | PM25_Sampler1.csv |\n",
    "\n",
    "These files will have the following structure.\n",
    "\n",
    "| sampling_date | {full name of element} | {abbreviation of element}-MDL |\n",
    "| ------------- | ------- | --- |\n",
    "| Date | element or ion's concentration | MDL |\n",
    "\n",
    "The concentration will be provided in $ng/m^3$. Because the ion concentration and PM2.5 mass concentration are provided in $µg/m^3$ in the original files, they will be converted.\n",
    "\n",
    "We will start with importing required libraries and setting the directory paths."
   ]
  },
  {
   "cell_type": "code",
   "execution_count": null,
   "id": "bf9170e7",
   "metadata": {},
   "outputs": [],
   "source": [
    "import sys\n",
    "from pathlib import Path\n",
    "\n",
    "project_root = Path.cwd().parents[0]\n",
    "if str(project_root) not in sys.path:\n",
    "    sys.path.append(str(project_root))\n",
    "\n",
    "import numpy as np\n",
    "import pandas as pd\n",
    "\n",
    "from src.config import INDEX_CSV\n",
    "from src.data.source_apportionment_extraction import create_nt_element_files, \\\n",
    "create_PM25_file, create_ion_files\n"
   ]
  },
  {
   "cell_type": "markdown",
   "id": "f5e17fe9-17e8-43dc-90e0-40b9c8dec93b",
   "metadata": {},
   "source": [
    "For feasibility test of source apportionment, use a set of the concentrations for one site. The following code will check which site will be suitable for this purpose - the frequency with one in three days is preferable."
   ]
  },
  {
   "cell_type": "code",
   "execution_count": null,
   "id": "3855bad6",
   "metadata": {},
   "outputs": [],
   "source": [
    "index_df = pd.read_csv(INDEX_CSV)\n",
    "\n",
    "# filter for frequency == 3\n",
    "freq3_df = index_df[index_df['frequency'] == 3]\n",
    "\n",
    "# group by 'year', 'site_id', 'element_form' and count unique 'element'\n",
    "element_counts = freq3_df.groupby(\n",
    "    ['year', 'site_id', 'element_form'])['element'].nunique().reset_index(name='element_count')\n",
    "\n",
    "# group by 'site_id' and sum the 'element_count' to get the total per site_id\n",
    "total_elements_per_site = element_counts.groupby(\n",
    "    'site_id')['element_count'].sum().reset_index(name='total_elements')\n",
    "\n",
    "total_elements_per_site.sort_values('total_elements', ascending=False).head(5)"
   ]
  },
  {
   "cell_type": "markdown",
   "id": "12c4c76e-3517-4092-a291-d46a0c1e51cb",
   "metadata": {},
   "source": [
    "NAPS site 60211 has the most data as the site with the frequency of one in three days and seems suitable for the first data. The following code will create data files for each element measured at 60211. "
   ]
  },
  {
   "cell_type": "code",
   "execution_count": null,
   "id": "42859e75-fdb5-4e06-9a34-c12a127e0f2c",
   "metadata": {},
   "outputs": [],
   "source": [
    "target_site_id = 60211\n",
    "\n",
    "create_nt_element_files(target_site_id)\n"
   ]
  },
  {
   "cell_type": "code",
   "execution_count": null,
   "id": "94b792e3-cfe7-46ac-a275-b7d6801734cb",
   "metadata": {},
   "outputs": [],
   "source": [
    "create_PM25_file(target_site_id)"
   ]
  },
  {
   "cell_type": "code",
   "execution_count": null,
   "id": "02d7aec1-a4d9-48a3-8189-0ad952c93008",
   "metadata": {},
   "outputs": [],
   "source": [
    "create_ion_files(target_site_id)"
   ]
  }
 ],
 "metadata": {
  "kernelspec": {
   "display_name": "Python 3 (ipykernel)",
   "language": "python",
   "name": "python3"
  },
  "language_info": {
   "codemirror_mode": {
    "name": "ipython",
    "version": 3
   },
   "file_extension": ".py",
   "mimetype": "text/x-python",
   "name": "python",
   "nbconvert_exporter": "python",
   "pygments_lexer": "ipython3",
   "version": "3.11.8"
  }
 },
 "nbformat": 4,
 "nbformat_minor": 5
}
