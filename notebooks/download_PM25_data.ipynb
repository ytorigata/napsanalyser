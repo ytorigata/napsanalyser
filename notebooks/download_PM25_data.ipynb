{
 "cells": [
  {
   "cell_type": "markdown",
   "id": "880b86be",
   "metadata": {},
   "source": [
    "# Downloading PM2.5 Data from the NAPS Data Mart for Analysis\n",
    "\n",
    "## Table of Contents:\n",
    "\n",
    "1. [Download data files](#download_data_files)\n",
    "2. [Download station data](#download_station_data)\n",
    "3. [Unzip the data files](#unzip_data_files)\n",
    "\n",
    "## 1. Download data files <a name=\"download_data_files\"></a>\n",
    "\n",
    "First, the following code will add a project root to the system path, set up logger, and import required modules and variables. The log files will be created under `logs/` directory.\n"
   ]
  },
  {
   "cell_type": "code",
   "execution_count": null,
   "id": "452ad69c-25f9-4150-a249-e2059c0f426d",
   "metadata": {},
   "outputs": [],
   "source": [
    "import sys\n",
    "from pathlib import Path\n",
    "\n",
    "project_root = Path.cwd().parents[0]\n",
    "if str(project_root) not in sys.path:\n",
    "    sys.path.append(str(project_root))\n",
    "\n",
    "from src.data.download_data import *\n"
   ]
  },
  {
   "cell_type": "markdown",
   "id": "5a0eeab2-f003-40e4-8743-8baf5721500c",
   "metadata": {},
   "source": [
    "The following function will create a default location of the directory, `data/raw`, to store files that will be downloaded. The zip files of the integrated PM$_{2.5}$ data sets will be downloaded from [the NAPS Data Mart](https://data-donnees.ec.gc.ca/data/air/monitor/national-air-pollution-surveillance-naps-program/Data-Donnees/) will be stored into the directories such as `data/raw/2010`, `data/raw/2011` etc. Downloading may take a few minutes depending on your network speed.\n",
    "\n",
    "<div class=\"alert alert-block alert-info\">\n",
    "<b>For maintenance:</b> If you fail to download the files, the API or the file locations might be changed. You could modify the URLs on `data/config/data_urls.csv`.\n",
    "</div>"
   ]
  },
  {
   "cell_type": "code",
   "execution_count": null,
   "id": "3a29971a-2523-457d-9526-121909d6ff8d",
   "metadata": {},
   "outputs": [],
   "source": [
    "download_integrated_dataset()\n"
   ]
  },
  {
   "cell_type": "markdown",
   "id": "a46c847f-a01f-4122-8c7f-e57cb22020a2",
   "metadata": {},
   "source": [
    "Smilarly, the next function will download continuous PM$_{2.5}$ data and save it in the local environment."
   ]
  },
  {
   "cell_type": "code",
   "execution_count": null,
   "id": "9a051c3b-7742-4b73-8e37-f1e9a790ff49",
   "metadata": {},
   "outputs": [],
   "source": [
    "download_continuous_dataset()\n"
   ]
  },
  {
   "cell_type": "markdown",
   "id": "99af742e-e94c-444c-97da-055402840c84",
   "metadata": {},
   "source": [
    "## 2. Download station data <a name=\"download_station_data\"></a>\n",
    "\n",
    "Next, the following function will download the file containing the information about the stations, `StationsNAPS-StationsSNPA.csv`, from the NAPS web site and will store it as `data/raw/stations.csv`.\n",
    "\n",
    "<div class=\"alert alert-block alert-info\">\n",
    "<b>For maintenance:</b> If you fail to download this file, the API or the file location might be changed. You could modify the URL in the row which `type` is `stations` in `data/config/info_urls.csv`.\n",
    "</div>"
   ]
  },
  {
   "cell_type": "code",
   "execution_count": null,
   "id": "5f514bdc-41d6-4f5a-afe7-e9326cd830b3",
   "metadata": {},
   "outputs": [],
   "source": [
    "download_station_data()\n"
   ]
  },
  {
   "cell_type": "markdown",
   "id": "2a49d284",
   "metadata": {},
   "source": [
    "Up to this point, the directory tree should be like the following (The file names are inconsistent as they are).\n",
    "\n",
    "```\n",
    "{project_root}\n",
    "  │\n",
    "  ├── data/raw/continuous_pm25/\n",
    "  │             ├── PM25_2003.csv\n",
    "  │             ├── ...\n",
    "  │             └── PM25_2019.csv\n",
    "  │\n",
    "  ├── data/raw/integrated_pm25/\n",
    "  │             ├── 2003/\n",
    "  │             │    ├── 2003PAH.zip\n",
    "  │             │    ├── 2003PMSPECIATION.zip\n",
    "  │             │    └── 2003VOC.zip\n",
    "  │             ├── ...\n",
    "  │             │\n",
    "  │             ├── 2010/\n",
    "  │             │    ├── 2010_IntegratedPM2.5.zip\n",
    "  │             │    ├── 2010_PAH.zip\n",
    "  │             │    └── 2010VOC.zip\n",
    "  │             ├── ...\n",
    "  │             │\n",
    "  │             ├── 2014/\n",
    "  │             │    ├── 2014_CARBONYLS.zip\n",
    "  │             │    ├── 2014_IntegratedPM2.5.zip\n",
    "  │             │    ├── 2014_PAH.zip\n",
    "  │             │    └── 2014_VOC.zip\n",
    "  │             ├── ...\n",
    "  │             │\n",
    "  │             ├── 2016/\n",
    "  │             │    ├── 2016_CARBONYLS-CARBONYLES.zip\n",
    "  │             │    ├── 2016_IntegratedPM2.5-PM2.5Ponctuelles.zip\n",
    "  │             │    ├── 2016_PAH-HAP.zip\n",
    "  │             │    └── 2016_VOC-COV.zip\n",
    "  │             ├── ...\n",
    "  │             │\n",
    "  │             ├── 2019/\n",
    "  │             │    └── ...\n",
    "  │             │\n",
    "  │             └── stations.csv\n",
    "  │\n",
    "  └── notebooks/\n",
    "            ├──download_PM25_data.ipynb (this notebook)\n",
    "            └── ...\n",
    "```\n",
    "\n",
    "## 3. Unzip the data files <a name=\"unzip_data_files\"></a>\n",
    "\n",
    "Then, the following function will unzip the integrated data files that we have downloaded. The unzipped files will be stored under  `data/raw/{YEAR}/` directories."
   ]
  },
  {
   "cell_type": "code",
   "execution_count": null,
   "id": "3518d6b1",
   "metadata": {},
   "outputs": [],
   "source": [
    "unzip_integrated_dataset()\n"
   ]
  }
 ],
 "metadata": {
  "kernelspec": {
   "display_name": "Python 3 (ipykernel)",
   "language": "python",
   "name": "python3"
  },
  "language_info": {
   "codemirror_mode": {
    "name": "ipython",
    "version": 3
   },
   "file_extension": ".py",
   "mimetype": "text/x-python",
   "name": "python",
   "nbconvert_exporter": "python",
   "pygments_lexer": "ipython3",
   "version": "3.11.8"
  }
 },
 "nbformat": 4,
 "nbformat_minor": 5
}
